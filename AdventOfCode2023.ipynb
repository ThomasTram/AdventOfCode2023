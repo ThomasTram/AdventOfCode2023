{
 "cells": [
  {
   "cell_type": "code",
   "execution_count": 1,
   "id": "860842e1",
   "metadata": {},
   "outputs": [
    {
     "name": "stdout",
     "output_type": "stream",
     "text": [
      "54597\n",
      "54504\n"
     ]
    }
   ],
   "source": [
    "# Day 1\n",
    "# Part one\n",
    "with open('day1.txt') as fid:\n",
    "    data = fid.read().strip().split('\\n')\n",
    "number_set = set('0123456789')\n",
    "number_sum = 0\n",
    "for d in data:\n",
    "    numbers = [s for s in d if s in number_set]\n",
    "    number_sum += int(numbers[0] + numbers[-1])\n",
    "print(number_sum)\n",
    "\n",
    "# Part two\n",
    "number_list = [c for c in '0123456789'] + ['zero', 'one', 'two', 'three', 'four', 'five', 'six', 'seven', 'eight', 'nine']\n",
    "number_sum = 0\n",
    "for d in data:\n",
    "    first_val = min([(s, index) for index, n in enumerate(number_list) if (s := d.find(n))  != -1])[1] % 10\n",
    "    last_val  = max([(s, index) for index, n in enumerate(number_list) if (s := d.rfind(n)) != -1])[1] % 10\n",
    "    number_sum += int(str(first_val) + str(last_val))\n",
    "print(number_sum)"
   ]
  },
  {
   "cell_type": "code",
   "execution_count": 2,
   "id": "b5915ba3",
   "metadata": {},
   "outputs": [
    {
     "name": "stdout",
     "output_type": "stream",
     "text": [
      "2679\n",
      "77607\n"
     ]
    }
   ],
   "source": [
    "# Day 2\n",
    "# Part one\n",
    "with open('day2.txt') as fid:\n",
    "    data = fid.read().strip().split('\\n')\n",
    "games = []\n",
    "colour_index = {'red':0, 'green':1, 'blue':2}\n",
    "for line in data:\n",
    "    turns = line.split(':')[1].split(';')\n",
    "    this_game = []\n",
    "    for t in turns:\n",
    "        this_turn = [0, 0, 0]\n",
    "        for colour_and_number in t.split(','):\n",
    "            number, colour = colour_and_number.strip().split()\n",
    "            this_turn[colour_index[colour]] = int(number)\n",
    "        this_game.append(this_turn)\n",
    "    games.append(this_game)\n",
    "id_sum = 0\n",
    "# 12 red cubes, 13 green cubes, and 14 blue cubes\n",
    "limit = [12, 13, 14]\n",
    "for game_id_minus_one, game in enumerate(games):\n",
    "    game_impossible = False\n",
    "    for t in game:\n",
    "        if t[0] > limit[0] or t[1] > limit[1] or t[2] > limit[2]:\n",
    "            game_impossible = True\n",
    "            break\n",
    "    if not game_impossible:\n",
    "        id_sum += game_id_minus_one + 1\n",
    "            \n",
    "print(id_sum)\n",
    "\n",
    "#Part two\n",
    "power_sum = 0\n",
    "for game in games:\n",
    "    required = [0, 0, 0]\n",
    "    for t in game:\n",
    "        for index in range(3):\n",
    "            required[index] = max(required[index], t[index])\n",
    "    power_sum += required[0]*required[1]*required[2]\n",
    "print(power_sum)"
   ]
  },
  {
   "cell_type": "code",
   "execution_count": 3,
   "id": "69db8622",
   "metadata": {},
   "outputs": [
    {
     "name": "stdout",
     "output_type": "stream",
     "text": [
      "537832\n",
      "81939900\n"
     ]
    }
   ],
   "source": [
    "# Day 3\n",
    "# Part one\n",
    "from collections import defaultdict\n",
    "with open('day3.txt') as fid:\n",
    "    engine_map = [c for c in fid.read()]\n",
    "\n",
    "Nx = engine_map.index('\\n') + 1\n",
    "Ny = len(engine_map)//Nx\n",
    "\n",
    "all_numbers = []\n",
    "dict_of_potential_gears = defaultdict(list)\n",
    "number = []\n",
    "digits = set(c for c in '0123456789')\n",
    "digits_and_dot = {'.', '\\n'} | digits\n",
    "for flatidx, c in enumerate(engine_map):\n",
    "    if c in digits:\n",
    "        number.append(c)\n",
    "    elif number:\n",
    "        #New number, check:\n",
    "        j, i = flatidx // Nx, flatidx % Nx\n",
    "        ndigits = len(number)\n",
    "        check_point_offsets = [(-1,0), (ndigits,0)] + [(nd,1) for nd in range(-1, ndigits + 1)] + [(nd,-1) for nd in range(-1, ndigits + 1)]\n",
    "        start_point = (j, i - ndigits)\n",
    "        add_number = False\n",
    "        for di, dj in check_point_offsets:\n",
    "            jj, ii = start_point[0] + dj, start_point[1] + di\n",
    "            if not ((0 <= ii < Nx) and (0 <= jj < Ny)):\n",
    "                continue\n",
    "            flat_idx_test = jj*Nx + ii\n",
    "            if engine_map[flat_idx_test] not in digits_and_dot:\n",
    "                add_number = True\n",
    "                if engine_map[flat_idx_test] == '*':\n",
    "                    dict_of_potential_gears[flat_idx_test].append(int(''.join(number)))\n",
    "                # We cannot break here, since there could be multiple * around a number\n",
    "        if add_number:\n",
    "            all_numbers.append(int(''.join(number)))\n",
    "        number = []\n",
    "\n",
    "print(sum(all_numbers))\n",
    "# Part two\n",
    "gear_ratio_sum = 0\n",
    "for key, val in dict_of_potential_gears.items():\n",
    "    if len(val) != 2:\n",
    "        continue\n",
    "    gear_ratio_sum += val[0]*val[1]\n",
    "print(gear_ratio_sum)"
   ]
  },
  {
   "cell_type": "code",
   "execution_count": 62,
   "id": "9b8f0765",
   "metadata": {},
   "outputs": [
    {
     "name": "stdout",
     "output_type": "stream",
     "text": [
      "24160\n",
      "5659035\n"
     ]
    }
   ],
   "source": [
    "# Day 4\n",
    "# Part one\n",
    "with open('day4.txt') as fid:\n",
    "    data = fid.read().strip().split('\\n')\n",
    "\n",
    "scratch_wins = []\n",
    "for line in data:\n",
    "    index_colon, index_sep = line.find(':'), line.find('|')\n",
    "    winning_numbers = set(int(d) for d in line[(index_colon + 1):index_sep].split())\n",
    "    played_numbers  = set(int(d) for d in line[(index_sep + 1):].split())\n",
    "    scratch_wins.append(len(winning_numbers & played_numbers))\n",
    "print(sum(2**(s - 1) for s in scratch_wins if s > 0))\n",
    "\n",
    "# Part two\n",
    "card_stash = [1]*len(scratch_wins)\n",
    "for i, wins in enumerate(scratch_wins):\n",
    "    for j in range(wins):\n",
    "        if (i + 1 + j) >= len(scratch_wins):\n",
    "            break\n",
    "        card_stash[i + 1 + j] += card_stash[i]\n",
    "print(sum(card_stash))"
   ]
  },
  {
   "cell_type": "code",
   "execution_count": 60,
   "id": "695b6ca6",
   "metadata": {},
   "outputs": [
    {
     "name": "stdout",
     "output_type": "stream",
     "text": [
      "535088217\n",
      "51399228\n"
     ]
    }
   ],
   "source": [
    "# Day 5\n",
    "# Part one\n",
    "with open('day5.txt') as fid:\n",
    "    data = fid.read().strip().split('\\n\\n')\n",
    "\n",
    "seeds = [int(num) for num in data[0].split(':')[1].split()]\n",
    "if_list_dict = {}\n",
    "for j in range(1, len(data)):\n",
    "    tmp = data[j].split('\\n')\n",
    "    if_list_dict[tmp[0][:-1]] = [[int(c) for c in s.split()] for s in tmp[1:]]\n",
    "\n",
    "def apply_if_from_list(x, if_list):\n",
    "    for il in if_list:\n",
    "        if il[1] <= x < (il[1] + il[2]):\n",
    "            x += il[0] - il[1]\n",
    "            break\n",
    "    return x\n",
    "\n",
    "location_numbers = []\n",
    "for s in seeds:\n",
    "    for val in if_list_dict.values():\n",
    "        s = apply_if_from_list(s, val)\n",
    "    location_numbers.append(s)\n",
    "print(min(location_numbers))\n",
    "\n",
    "#Part two\n",
    "def apply_if_from_list_inverse(x, if_list):\n",
    "    for il in if_list:\n",
    "        if il[0] <= x < (il[0] + il[2]):\n",
    "            x += il[1] - il[0]\n",
    "            break\n",
    "    return x\n",
    "\n",
    "test_location = 0\n",
    "not_found = True\n",
    "while not_found:\n",
    "    s = test_location\n",
    "    for val in reversed(if_list_dict.values()):\n",
    "        s = apply_if_from_list_inverse(s, val)\n",
    "    # Test if seed is in range:\n",
    "    for i in range(0, len(seeds), 2):\n",
    "        if seeds[i] <= s < (seeds[i] + seeds[i + 1]):\n",
    "            not_found = False\n",
    "            print(test_location)\n",
    "            break\n",
    "    test_location += 1"
   ]
  },
  {
   "cell_type": "code",
   "execution_count": 108,
   "id": "a7d826d1",
   "metadata": {},
   "outputs": [
    {
     "name": "stdout",
     "output_type": "stream",
     "text": [
      "5133600\n",
      "40651271\n"
     ]
    }
   ],
   "source": [
    "# Day 6\n",
    "# Part one\n",
    "import math\n",
    "with open('day6.txt') as fid:\n",
    "    data = fid.read().strip().split('\\n')\n",
    "times = [int(d) for d in (data[0].split(':')[1]).split()]\n",
    "dists = [int(d) for d in (data[1].split(':')[1]).split()]\n",
    "def get_margin(T, R):\n",
    "    sqrt_arg = (T/2)**2 - R - 1\n",
    "    if sqrt_arg < 0:\n",
    "        return 0\n",
    "    tmin = np.ceil(T/2 - np.sqrt(sqrt_arg))\n",
    "    tmax = np.floor(T/2 + np.sqrt(sqrt_arg))\n",
    "    return int(tmax - tmin + 1)\n",
    "\n",
    "print(math.prod(m for T, R in zip(times, dists) if (m := get_margin(T, R))))\n",
    "\n",
    "# Part two\n",
    "time = int(''.join([str(d) for d in times]))\n",
    "dist = int(''.join([str(d) for d in dists]))\n",
    "print(get_margin(time, dist))"
   ]
  },
  {
   "cell_type": "code",
   "execution_count": 165,
   "id": "41270b2d",
   "metadata": {},
   "outputs": [
    {
     "name": "stdout",
     "output_type": "stream",
     "text": [
      "250602641\n",
      "251037509\n"
     ]
    }
   ],
   "source": [
    "# Day 7\n",
    "# Part one\n",
    "import math\n",
    "with open('day7.txt') as fid:\n",
    "    data = fid.read().strip().split('\\n')\n",
    "\n",
    "def get_hand_type(hand):\n",
    "    cards, count = np.unique(list(hand), return_counts=True)\n",
    "    hand_type = max(count)\n",
    "    if hand_type == 3 and len(count) == 2:\n",
    "        hand_type = 3.5\n",
    "    elif hand_type == 2 and len(count) == 3:\n",
    "        hand_type = 2.5\n",
    "    return hand_type\n",
    "\n",
    "card_values = {c:(n + 2) for n, c in enumerate('23456789TJQKA')}\n",
    "hand_values = [(get_hand_type(handbid[0]),) + tuple(card_values[c] for c in handbid[0]) + (int(handbid[1]),)\n",
    "              for d in data if (handbid := d.split())]\n",
    "print(sum((rankm1 + 1)*h[6] for rankm1, h in enumerate(sorted(hand_values))))\n",
    "\n",
    "# Part two\n",
    "card_values = {c:(n + 1) for n, c in enumerate('J23456789TQKA')}\n",
    "def get_hand_type_with_jokers(hand):\n",
    "    njokers = sum(1 for c in hand if c == 'J')\n",
    "    if njokers == 5:\n",
    "        return 5\n",
    "    cards, count = np.unique(list(hand.replace('J', '')), return_counts=True)\n",
    "    c = cards[np.argmax(count)]\n",
    "    hand = hand.replace('J', c)\n",
    "    return get_hand_type(hand)\n",
    "\n",
    "hand_values = [(get_hand_type_with_jokers(handbid[0]),) + tuple(card_values[c] for c in handbid[0]) + (int(handbid[1]),)\n",
    "              for d in data if (handbid := d.split())]\n",
    "print(sum((rankm1 + 1)*h[6] for rankm1, h in enumerate(sorted(hand_values))))"
   ]
  },
  {
   "cell_type": "code",
   "execution_count": 272,
   "id": "dd947792",
   "metadata": {},
   "outputs": [
    {
     "name": "stdout",
     "output_type": "stream",
     "text": [
      "14257\n",
      "16187743689077\n"
     ]
    }
   ],
   "source": [
    "# Day 8\n",
    "# Part one\n",
    "with open('day8.txt') as fid:\n",
    "    directions, network = fid.read().strip().split('\\n\\n')\n",
    "\n",
    "lts = ''.join(map(chr, range(ord('A'), ord('Z') + 1)))\n",
    "Nlts = len(lts)\n",
    "node_to_index = {(c1 + c2 + c3):index1*Nlts**2 + index2*Nlts + index3 \n",
    "                 for index1, c1 in enumerate(lts) \n",
    "                 for index2, c2 in enumerate(lts)\n",
    "                 for index3, c3 in enumerate(lts)}\n",
    "\n",
    "directions_indices = [0 if c == 'L' else 1 for c in directions]\n",
    "lts_set = set(lts)\n",
    "node_list = [(-1,-1)]*Nlts**3\n",
    "for line in network.strip().split('\\n'):\n",
    "    tmp = ''.join(c for c in line if c in lts_set)\n",
    "    node, left, rght = [node_to_index[tmp[3*j:3*(j + 1)]] for j in range(3)]\n",
    "    node_list[node] = (left, rght)\n",
    "\n",
    "pos = 0\n",
    "steps = 0\n",
    "while pos != (Nlts**3 - 1):\n",
    "    dir_index = directions_indices[steps % len(directions_indices)]\n",
    "    pos = node_list[pos][dir_index]\n",
    "    steps += 1\n",
    "print(steps)\n",
    "\n",
    "# Part two\n",
    "import itertools\n",
    "ghost_pos = [index for index in [idx1*Nlts**2 + idx2*Nlts for idx1 in range(Nlts) for idx2 in range(Nlts)] \n",
    "             if node_list[index] != (-1, -1)]\n",
    "\n",
    "def get_steps_and_pos_to_next_final(pos, start_dir_index):\n",
    "    steps = 0\n",
    "    while steps == 0 or pos%Nlts != (Nlts - 1):\n",
    "        dir_index = directions_indices[(start_dir_index + steps) % len(directions_indices)]\n",
    "        pos = node_list[pos][dir_index]\n",
    "        steps += 1\n",
    "    return steps, pos\n",
    "\n",
    "only_steps = [get_steps_and_pos_to_next_final(pos, 0)[0] for pos in ghost_pos]\n",
    "\n",
    "def prime_factorisation(n):\n",
    "    for i in itertools.chain([2], itertools.count(3, 2)):\n",
    "        if n <= 1:\n",
    "            break\n",
    "        while n % i == 0:\n",
    "            n //= i\n",
    "            yield i\n",
    "            \n",
    "prime_factors = set()\n",
    "for steps in only_steps:\n",
    "    prime_factors |= set(prime_factorisation(steps))\n",
    "print(math.prod(prime_factors))"
   ]
  },
  {
   "cell_type": "code",
   "execution_count": null,
   "id": "ea36f55f",
   "metadata": {},
   "outputs": [],
   "source": []
  }
 ],
 "metadata": {
  "kernelspec": {
   "display_name": "Python 3 (ipykernel)",
   "language": "python",
   "name": "python3"
  },
  "language_info": {
   "codemirror_mode": {
    "name": "ipython",
    "version": 3
   },
   "file_extension": ".py",
   "mimetype": "text/x-python",
   "name": "python",
   "nbconvert_exporter": "python",
   "pygments_lexer": "ipython3",
   "version": "3.11.5"
  }
 },
 "nbformat": 4,
 "nbformat_minor": 5
}
