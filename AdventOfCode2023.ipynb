{
 "cells": [
  {
   "cell_type": "code",
   "execution_count": 1,
   "id": "860842e1",
   "metadata": {},
   "outputs": [
    {
     "name": "stdout",
     "output_type": "stream",
     "text": [
      "54597\n",
      "54504\n"
     ]
    }
   ],
   "source": [
    "# Day 1\n",
    "# Part one\n",
    "with open('day1.txt') as fid:\n",
    "    data = fid.read().strip().split('\\n')\n",
    "number_set = set('0123456789')\n",
    "number_sum = 0\n",
    "for d in data:\n",
    "    numbers = [s for s in d if s in number_set]\n",
    "    number_sum += int(numbers[0] + numbers[-1])\n",
    "print(number_sum)\n",
    "\n",
    "# Part two\n",
    "number_list = [c for c in '0123456789'] + ['zero', 'one', 'two', 'three', 'four', 'five', 'six', 'seven', 'eight', 'nine']\n",
    "number_sum = 0\n",
    "for d in data:\n",
    "    first_val = min([(s, index) for index, n in enumerate(number_list) if (s := d.find(n))  != -1])[1] % 10\n",
    "    last_val  = max([(s, index) for index, n in enumerate(number_list) if (s := d.rfind(n)) != -1])[1] % 10\n",
    "    number_sum += int(str(first_val) + str(last_val))\n",
    "print(number_sum)"
   ]
  },
  {
   "cell_type": "code",
   "execution_count": 2,
   "id": "b5915ba3",
   "metadata": {},
   "outputs": [
    {
     "name": "stdout",
     "output_type": "stream",
     "text": [
      "2679\n",
      "77607\n"
     ]
    }
   ],
   "source": [
    "# Day 2\n",
    "# Part one\n",
    "with open('day2.txt') as fid:\n",
    "    data = fid.read().strip().split('\\n')\n",
    "games = []\n",
    "colour_index = {'red':0, 'green':1, 'blue':2}\n",
    "for line in data:\n",
    "    turns = line.split(':')[1].split(';')\n",
    "    this_game = []\n",
    "    for t in turns:\n",
    "        this_turn = [0, 0, 0]\n",
    "        for colour_and_number in t.split(','):\n",
    "            number, colour = colour_and_number.strip().split()\n",
    "            this_turn[colour_index[colour]] = int(number)\n",
    "        this_game.append(this_turn)\n",
    "    games.append(this_game)\n",
    "id_sum = 0\n",
    "# 12 red cubes, 13 green cubes, and 14 blue cubes\n",
    "limit = [12, 13, 14]\n",
    "for game_id_minus_one, game in enumerate(games):\n",
    "    game_impossible = False\n",
    "    for t in game:\n",
    "        if t[0] > limit[0] or t[1] > limit[1] or t[2] > limit[2]:\n",
    "            game_impossible = True\n",
    "            break\n",
    "    if not game_impossible:\n",
    "        id_sum += game_id_minus_one + 1\n",
    "            \n",
    "print(id_sum)\n",
    "\n",
    "#Part two\n",
    "power_sum = 0\n",
    "for game in games:\n",
    "    required = [0, 0, 0]\n",
    "    for t in game:\n",
    "        for index in range(3):\n",
    "            required[index] = max(required[index], t[index])\n",
    "    power_sum += required[0]*required[1]*required[2]\n",
    "print(power_sum)"
   ]
  }
 ],
 "metadata": {
  "kernelspec": {
   "display_name": "Python 3 (ipykernel)",
   "language": "python",
   "name": "python3"
  },
  "language_info": {
   "codemirror_mode": {
    "name": "ipython",
    "version": 3
   },
   "file_extension": ".py",
   "mimetype": "text/x-python",
   "name": "python",
   "nbconvert_exporter": "python",
   "pygments_lexer": "ipython3",
   "version": "3.11.5"
  }
 },
 "nbformat": 4,
 "nbformat_minor": 5
}
