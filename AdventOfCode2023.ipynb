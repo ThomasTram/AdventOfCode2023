{
 "cells": [
  {
   "cell_type": "code",
   "execution_count": 29,
   "id": "c6f33a22",
   "metadata": {},
   "outputs": [
    {
     "name": "stdout",
     "output_type": "stream",
     "text": [
      "54597\n",
      "54504\n"
     ]
    }
   ],
   "source": [
    "# Day 1\n",
    "# Part one\n",
    "with open('day1.txt') as fid:\n",
    "    data = fid.read().strip().split('\\n')\n",
    "number_set = set('0123456789')\n",
    "number_sum = 0\n",
    "for d in data:\n",
    "    numbers = [s for s in d if s in number_set]\n",
    "    number_sum += int(numbers[0] + numbers[-1])\n",
    "print(number_sum)\n",
    "\n",
    "# Part two\n",
    "number_list = [c for c in '0123456789'] + ['zero', 'one', 'two', 'three', 'four', 'five', 'six', 'seven', 'eight', 'nine']\n",
    "number_sum = 0\n",
    "for d in data:\n",
    "    first_val = min([(d.find(n), index)  for index, n in enumerate(number_list) if d.find(n)  != -1])[1] % 10\n",
    "    last_val  = max([(d.rfind(n), index) for index, n in enumerate(number_list) if d.rfind(n) != -1])[1] % 10\n",
    "    number_sum += int(str(first_val) + str(last_val))\n",
    "print(number_sum)"
   ]
  },
  {
   "cell_type": "code",
   "execution_count": 5,
   "id": "bb08b10e",
   "metadata": {},
   "outputs": [
    {
     "data": {
      "text/plain": [
       "48"
      ]
     },
     "execution_count": 5,
     "metadata": {},
     "output_type": "execute_result"
    }
   ],
   "source": [
    "ord('0')"
   ]
  },
  {
   "cell_type": "code",
   "execution_count": null,
   "id": "82d11ea0",
   "metadata": {},
   "outputs": [],
   "source": []
  }
 ],
 "metadata": {
  "kernelspec": {
   "display_name": "Python 3 (ipykernel)",
   "language": "python",
   "name": "python3"
  },
  "language_info": {
   "codemirror_mode": {
    "name": "ipython",
    "version": 3
   },
   "file_extension": ".py",
   "mimetype": "text/x-python",
   "name": "python",
   "nbconvert_exporter": "python",
   "pygments_lexer": "ipython3",
   "version": "3.9.7"
  }
 },
 "nbformat": 4,
 "nbformat_minor": 5
}
