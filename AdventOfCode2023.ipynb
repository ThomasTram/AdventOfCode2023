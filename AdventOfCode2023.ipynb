{
 "cells": [
  {
   "cell_type": "code",
   "execution_count": 1,
   "id": "860842e1",
   "metadata": {},
   "outputs": [
    {
     "name": "stdout",
     "output_type": "stream",
     "text": [
      "54597\n",
      "54504\n"
     ]
    }
   ],
   "source": [
    "# Day 1\n",
    "# Part one\n",
    "with open('day1.txt') as fid:\n",
    "    data = fid.read().strip().split('\\n')\n",
    "number_set = set('0123456789')\n",
    "number_sum = 0\n",
    "for d in data:\n",
    "    numbers = [s for s in d if s in number_set]\n",
    "    number_sum += int(numbers[0] + numbers[-1])\n",
    "print(number_sum)\n",
    "\n",
    "# Part two\n",
    "number_list = [c for c in '0123456789'] + ['zero', 'one', 'two', 'three', 'four', 'five', 'six', 'seven', 'eight', 'nine']\n",
    "number_sum = 0\n",
    "for d in data:\n",
    "    first_val = min([(s, index) for index, n in enumerate(number_list) if (s := d.find(n))  != -1])[1] % 10\n",
    "    last_val  = max([(s, index) for index, n in enumerate(number_list) if (s := d.rfind(n)) != -1])[1] % 10\n",
    "    number_sum += int(str(first_val) + str(last_val))\n",
    "print(number_sum)"
   ]
  },
  {
   "cell_type": "code",
   "execution_count": 2,
   "id": "b5915ba3",
   "metadata": {},
   "outputs": [
    {
     "name": "stdout",
     "output_type": "stream",
     "text": [
      "2679\n",
      "77607\n"
     ]
    }
   ],
   "source": [
    "# Day 2\n",
    "# Part one\n",
    "with open('day2.txt') as fid:\n",
    "    data = fid.read().strip().split('\\n')\n",
    "games = []\n",
    "colour_index = {'red':0, 'green':1, 'blue':2}\n",
    "for line in data:\n",
    "    turns = line.split(':')[1].split(';')\n",
    "    this_game = []\n",
    "    for t in turns:\n",
    "        this_turn = [0, 0, 0]\n",
    "        for colour_and_number in t.split(','):\n",
    "            number, colour = colour_and_number.strip().split()\n",
    "            this_turn[colour_index[colour]] = int(number)\n",
    "        this_game.append(this_turn)\n",
    "    games.append(this_game)\n",
    "id_sum = 0\n",
    "# 12 red cubes, 13 green cubes, and 14 blue cubes\n",
    "limit = [12, 13, 14]\n",
    "for game_id_minus_one, game in enumerate(games):\n",
    "    game_impossible = False\n",
    "    for t in game:\n",
    "        if t[0] > limit[0] or t[1] > limit[1] or t[2] > limit[2]:\n",
    "            game_impossible = True\n",
    "            break\n",
    "    if not game_impossible:\n",
    "        id_sum += game_id_minus_one + 1\n",
    "            \n",
    "print(id_sum)\n",
    "\n",
    "#Part two\n",
    "power_sum = 0\n",
    "for game in games:\n",
    "    required = [0, 0, 0]\n",
    "    for t in game:\n",
    "        for index in range(3):\n",
    "            required[index] = max(required[index], t[index])\n",
    "    power_sum += required[0]*required[1]*required[2]\n",
    "print(power_sum)"
   ]
  },
  {
   "cell_type": "code",
   "execution_count": 3,
   "id": "69db8622",
   "metadata": {},
   "outputs": [
    {
     "name": "stdout",
     "output_type": "stream",
     "text": [
      "537832\n",
      "81939900\n"
     ]
    }
   ],
   "source": [
    "# Day 3\n",
    "# Part one\n",
    "from collections import defaultdict\n",
    "with open('day3.txt') as fid:\n",
    "    engine_map = [c for c in fid.read()]\n",
    "\n",
    "Nx = engine_map.index('\\n') + 1\n",
    "Ny = len(engine_map)//Nx\n",
    "\n",
    "all_numbers = []\n",
    "dict_of_potential_gears = defaultdict(list)\n",
    "number = []\n",
    "digits = set(c for c in '0123456789')\n",
    "digits_and_dot = {'.', '\\n'} | digits\n",
    "for flatidx, c in enumerate(engine_map):\n",
    "    if c in digits:\n",
    "        number.append(c)\n",
    "    elif number:\n",
    "        #New number, check:\n",
    "        j, i = flatidx // Nx, flatidx % Nx\n",
    "        ndigits = len(number)\n",
    "        check_point_offsets = [(-1,0), (ndigits,0)] + [(nd,1) for nd in range(-1, ndigits + 1)] + [(nd,-1) for nd in range(-1, ndigits + 1)]\n",
    "        start_point = (j, i - ndigits)\n",
    "        add_number = False\n",
    "        for di, dj in check_point_offsets:\n",
    "            jj, ii = start_point[0] + dj, start_point[1] + di\n",
    "            if not ((0 <= ii < Nx) and (0 <= jj < Ny)):\n",
    "                continue\n",
    "            flat_idx_test = jj*Nx + ii\n",
    "            if engine_map[flat_idx_test] not in digits_and_dot:\n",
    "                add_number = True\n",
    "                if engine_map[flat_idx_test] == '*':\n",
    "                    dict_of_potential_gears[flat_idx_test].append(int(''.join(number)))\n",
    "                # We cannot break here, since there could be multiple * around a number\n",
    "        if add_number:\n",
    "            all_numbers.append(int(''.join(number)))\n",
    "        number = []\n",
    "\n",
    "print(sum(all_numbers))\n",
    "# Part two\n",
    "gear_ratio_sum = 0\n",
    "for key, val in dict_of_potential_gears.items():\n",
    "    if len(val) != 2:\n",
    "        continue\n",
    "    gear_ratio_sum += val[0]*val[1]\n",
    "print(gear_ratio_sum)"
   ]
  },
  {
   "cell_type": "code",
   "execution_count": 9,
   "id": "9b8f0765",
   "metadata": {},
   "outputs": [
    {
     "name": "stdout",
     "output_type": "stream",
     "text": [
      "24160\n",
      "5659035\n"
     ]
    }
   ],
   "source": [
    "# Day 4\n",
    "# Part one\n",
    "with open('day4.txt') as fid:\n",
    "    data = fid.read().strip().split('\\n')\n",
    "\n",
    "total = 0\n",
    "scratch_wins = []\n",
    "for line in data:\n",
    "    index_colon, index_sep = line.find(':'), line.find('|')\n",
    "    winning_numbers = set(int(d) for d in line[(index_colon + 1):index_sep].split())\n",
    "    played_numbers  = set(int(d) for d in line[(index_sep + 1):].split())\n",
    "    scratch_wins.append(len(winning_numbers & played_numbers))\n",
    "\n",
    "print(sum(2**(s - 1) for s in scratch_wins if s > 0))\n",
    "\n",
    "# Part two\n",
    "card_stash = [1]*len(scratch_wins)\n",
    "for i, wins in enumerate(scratch_wins):\n",
    "    for j in range(wins):\n",
    "        if (i + 1 + j) >= len(scratch_wins):\n",
    "            break\n",
    "        card_stash[i + 1 + j] += card_stash[i]\n",
    "print(sum(card_stash))"
   ]
  },
  {
   "cell_type": "code",
   "execution_count": null,
   "id": "32202514",
   "metadata": {},
   "outputs": [],
   "source": []
  }
 ],
 "metadata": {
  "kernelspec": {
   "display_name": "Python 3 (ipykernel)",
   "language": "python",
   "name": "python3"
  },
  "language_info": {
   "codemirror_mode": {
    "name": "ipython",
    "version": 3
   },
   "file_extension": ".py",
   "mimetype": "text/x-python",
   "name": "python",
   "nbconvert_exporter": "python",
   "pygments_lexer": "ipython3",
   "version": "3.11.5"
  }
 },
 "nbformat": 4,
 "nbformat_minor": 5
}
